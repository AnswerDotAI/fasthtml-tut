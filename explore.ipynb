{
 "cells": [
  {
   "cell_type": "code",
   "execution_count": 1,
   "id": "221e36b2",
   "metadata": {},
   "outputs": [],
   "source": [
    "from fasthtml.common import *"
   ]
  },
  {
   "cell_type": "code",
   "execution_count": 2,
   "id": "dd1d9ac0",
   "metadata": {},
   "outputs": [],
   "source": [
    "db = database('data/todos.db')"
   ]
  },
  {
   "cell_type": "code",
   "execution_count": 8,
   "id": "a719602a",
   "metadata": {},
   "outputs": [],
   "source": [
    "todos = db.t.items"
   ]
  },
  {
   "cell_type": "code",
   "execution_count": 4,
   "id": "c7770f3a",
   "metadata": {},
   "outputs": [],
   "source": [
    "if todos not in db.t: todos.create(id=int, title=str, done=bool, pk='id')"
   ]
  },
  {
   "cell_type": "code",
   "execution_count": 5,
   "id": "2cb18fba",
   "metadata": {},
   "outputs": [
    {
     "data": {
      "text/plain": [
       "items, todos"
      ]
     },
     "execution_count": 5,
     "metadata": {},
     "output_type": "execute_result"
    }
   ],
   "source": [
    "db.t"
   ]
  },
  {
   "cell_type": "code",
   "execution_count": 12,
   "id": "c59a9e23",
   "metadata": {},
   "outputs": [],
   "source": [
    "# todos.insert(title='A todo', done=False)\n",
    "# todos.insert(title='Another one', done=True)"
   ]
  },
  {
   "cell_type": "code",
   "execution_count": 11,
   "id": "c56265fa",
   "metadata": {},
   "outputs": [
    {
     "data": {
      "text/plain": [
       "[{'id': 1, 'title': 'A todo', 'done': 0},\n",
       " {'id': 2, 'title': 'Another one', 'done': 1}]"
      ]
     },
     "execution_count": 11,
     "metadata": {},
     "output_type": "execute_result"
    }
   ],
   "source": [
    "todos()"
   ]
  },
  {
   "cell_type": "code",
   "execution_count": 14,
   "id": "917b428e",
   "metadata": {},
   "outputs": [],
   "source": [
    "Todo = todos.dataclass()"
   ]
  },
  {
   "cell_type": "code",
   "execution_count": 15,
   "id": "5afbb1ea",
   "metadata": {},
   "outputs": [
    {
     "data": {
      "text/plain": [
       "Todos(id=3, title='From a dataclass', done=0)"
      ]
     },
     "execution_count": 15,
     "metadata": {},
     "output_type": "execute_result"
    }
   ],
   "source": [
    "todos.insert(Todo(title='From a dataclass', done=False))"
   ]
  },
  {
   "cell_type": "code",
   "execution_count": 17,
   "id": "6861695d",
   "metadata": {},
   "outputs": [
    {
     "data": {
      "text/plain": [
       "[Todos(id=1, title='A todo', done=0),\n",
       " Todos(id=2, title='Another one', done=1),\n",
       " Todos(id=3, title='From a dataclass', done=0)]"
      ]
     },
     "execution_count": 17,
     "metadata": {},
     "output_type": "execute_result"
    }
   ],
   "source": [
    "todos()"
   ]
  },
  {
   "cell_type": "code",
   "execution_count": 18,
   "id": "4be1250f",
   "metadata": {},
   "outputs": [
    {
     "data": {
      "text/plain": [
       "[['li', ('A todo ',), {}],\n",
       " ['li', ('Another one ✅',), {}],\n",
       " ['li', ('From a dataclass ',), {}]]"
      ]
     },
     "execution_count": 18,
     "metadata": {},
     "output_type": "execute_result"
    }
   ],
   "source": [
    "[Li(f'{o.title} {\"✅\" if o.done else \"\"}') for o in todos()]"
   ]
  },
  {
   "cell_type": "code",
   "execution_count": 23,
   "id": "27b45ebc",
   "metadata": {},
   "outputs": [
    {
     "data": {
      "text/markdown": [
       "```xml\n",
       "<ul>\n",
       "  <li>\n",
       "A todo \n",
       "  </li>\n",
       "  <li>\n",
       "Another one ✅\n",
       "  </li>\n",
       "  <li>\n",
       "From a dataclass \n",
       "  </li>\n",
       "</ul>\n",
       "\n",
       "```"
      ],
      "text/plain": [
       "['ul',\n",
       " (['li', ('A todo ',), {}],\n",
       "  ['li', ('Another one ✅',), {}],\n",
       "  ['li', ('From a dataclass ',), {}]),\n",
       " {}]"
      ]
     },
     "execution_count": 23,
     "metadata": {},
     "output_type": "execute_result"
    }
   ],
   "source": [
    "todolist = Ul(*[Li(f'{o.title} {\"✅\" if o.done else \"\"}') for o in todos()])\n",
    "todolist"
   ]
  },
  {
   "cell_type": "code",
   "execution_count": 22,
   "id": "93ec6e76",
   "metadata": {},
   "outputs": [
    {
     "data": {
      "text/html": [
       "<link rel=\"stylesheet\" href=\"https://cdn.jsdelivr.net/npm/@picocss/pico@latest/css/pico.conditional.min.css\">\n"
      ],
      "text/plain": [
       "<IPython.core.display.HTML object>"
      ]
     },
     "execution_count": 22,
     "metadata": {},
     "output_type": "execute_result"
    }
   ],
   "source": [
    "show(picocondlink)"
   ]
  },
  {
   "cell_type": "code",
   "execution_count": 21,
   "id": "81989768",
   "metadata": {},
   "outputs": [
    {
     "data": {
      "application/javascript": [
       "var sel = '.cell-output, .output_area';\n",
       "document.querySelectorAll(sel).forEach(e => e.classList.add('pico'));\n",
       "\n",
       "new MutationObserver(ms => {\n",
       "  ms.forEach(m => {\n",
       "    m.addedNodes.forEach(n => {\n",
       "      if (n.nodeType === 1) {\n",
       "        var nc = n.classList;\n",
       "        if (nc && (nc.contains('cell-output') || nc.contains('output_area'))) nc.add('pico');\n",
       "        n.querySelectorAll(sel).forEach(e => e.classList.add('pico'));\n",
       "      }\n",
       "    });\n",
       "  });\n",
       "}).observe(document.body, { childList: true, subtree: true });"
      ],
      "text/plain": [
       "<IPython.core.display.Javascript object>"
      ]
     },
     "execution_count": 21,
     "metadata": {},
     "output_type": "execute_result"
    }
   ],
   "source": [
    "set_pico_cls()"
   ]
  },
  {
   "cell_type": "code",
   "execution_count": 28,
   "id": "80dcaa8c",
   "metadata": {},
   "outputs": [
    {
     "data": {
      "text/html": [
       "<article>\n",
       "  <header>\n",
       "head\n",
       "  </header>\n",
       "  <ul>\n",
       "    <li>\n",
       "A todo \n",
       "    </li>\n",
       "    <li>\n",
       "Another one ✅\n",
       "    </li>\n",
       "    <li>\n",
       "From a dataclass \n",
       "    </li>\n",
       "  </ul>\n",
       "  <footer>\n",
       "foot\n",
       "  </footer>\n",
       "</article>\n"
      ],
      "text/plain": [
       "<IPython.core.display.HTML object>"
      ]
     },
     "execution_count": 28,
     "metadata": {},
     "output_type": "execute_result"
    }
   ],
   "source": [
    "show(Card(todolist, header=\"head\", footer=\"foot\"))"
   ]
  },
  {
   "cell_type": "code",
   "execution_count": 33,
   "id": "b8247502",
   "metadata": {},
   "outputs": [
    {
     "data": {
      "text/markdown": [
       "```xml\n",
       "<form>\n",
       "  <fieldset role=\"group\">\n",
       "    <input id=\"title\" name=\"title\">\n",
       "    <button>\n",
       "Save\n",
       "    </button>\n",
       "  </fieldset>\n",
       "  <label>\n",
       "    <input type=\"checkbox\" value=\"1\" id=\"done\" name=\"done\">\n",
       "Done\n",
       "  </label>\n",
       "</form>\n",
       "\n",
       "```"
      ],
      "text/plain": [
       "['form',\n",
       " (['fieldset',\n",
       "   (['input', (), {'id': 'title', 'name': 'title'}],\n",
       "    ['button', ('Save',), {}]),\n",
       "   {'role': 'group'}],\n",
       "  ['label',\n",
       "   (['input',\n",
       "     (),\n",
       "     {'type': 'checkbox', 'value': '1', 'id': 'done', 'name': 'done'}],\n",
       "    'Done'),\n",
       "   {}]),\n",
       " {}]"
      ]
     },
     "execution_count": 33,
     "metadata": {},
     "output_type": "execute_result"
    }
   ],
   "source": [
    "frm = Form(Group(Input(id=\"title\"), Button(\"Save\")),\n",
    "           Checkbox(id=\"done\", label='Done'))\n",
    "frm"
   ]
  },
  {
   "cell_type": "code",
   "execution_count": 34,
   "id": "295c1590",
   "metadata": {},
   "outputs": [
    {
     "data": {
      "text/html": [
       "<form>\n",
       "  <fieldset role=\"group\">\n",
       "    <input id=\"title\" name=\"title\">\n",
       "    <button>\n",
       "Save\n",
       "    </button>\n",
       "  </fieldset>\n",
       "  <label>\n",
       "    <input type=\"checkbox\" value=\"1\" id=\"done\" name=\"done\">\n",
       "Done\n",
       "  </label>\n",
       "</form>\n"
      ],
      "text/plain": [
       "<IPython.core.display.HTML object>"
      ]
     },
     "execution_count": 34,
     "metadata": {},
     "output_type": "execute_result"
    }
   ],
   "source": [
    "show(frm)"
   ]
  },
  {
   "cell_type": "code",
   "execution_count": null,
   "id": "58993a5f",
   "metadata": {},
   "outputs": [],
   "source": []
  }
 ],
 "metadata": {
  "kernelspec": {
   "display_name": "Python 3 (ipykernel)",
   "language": "python",
   "name": "python3"
  },
  "language_info": {
   "codemirror_mode": {
    "name": "ipython",
    "version": 3
   },
   "file_extension": ".py",
   "mimetype": "text/x-python",
   "name": "python",
   "nbconvert_exporter": "python",
   "pygments_lexer": "ipython3",
   "version": "3.11.8"
  }
 },
 "nbformat": 4,
 "nbformat_minor": 5
}
